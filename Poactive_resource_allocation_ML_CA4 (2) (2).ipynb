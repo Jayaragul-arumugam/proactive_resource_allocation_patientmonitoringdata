{
 "cells": [
  {
   "cell_type": "code",
   "execution_count": 41,
   "id": "859643e1-687d-416b-8549-4b0058a03ca7",
   "metadata": {
    "tags": []
   },
   "outputs": [],
   "source": [
    "import pandas as pd\n",
    "import numpy as np\n",
    "from sklearn.model_selection import train_test_split\n",
    "from sklearn.linear_model import Ridge\n",
    "from sklearn.metrics import mean_squared_error, r2_score\n",
    "from sklearn.preprocessing import MinMaxScaler"
   ]
  },
  {
   "cell_type": "markdown",
   "id": "1ee4f84c-9696-4da8-8b83-d2db3649d155",
   "metadata": {},
   "source": [
    "# Data Preprocessing"
   ]
  },
  {
   "cell_type": "code",
   "execution_count": 3,
   "id": "3ac0d4b4-729a-41ed-9e4b-9a7769c605a9",
   "metadata": {
    "tags": []
   },
   "outputs": [
    {
     "name": "stderr",
     "output_type": "stream",
     "text": [
      "C:\\Users\\jayaragularumugam\\AppData\\Local\\Temp\\ipykernel_6216\\1979365435.py:1: DtypeWarning: Columns (26,28,35) have mixed types. Specify dtype option on import or set low_memory=False.\n",
      "  data=pd.read_csv(\"C:/Users/jayaragularumugam/Downloads/patientMonitoring.csv/patientMonitoring.csv\")\n"
     ]
    }
   ],
   "source": [
    "data=pd.read_csv(\"C:/Users/jayaragularumugam/Downloads/patientMonitoring.csv/patientMonitoring.csv\")"
   ]
  },
  {
   "cell_type": "code",
   "execution_count": 4,
   "id": "8c11d888-c7a6-4f58-80df-7f848e451f7e",
   "metadata": {
    "tags": []
   },
   "outputs": [
    {
     "data": {
      "text/html": [
       "<div>\n",
       "<style scoped>\n",
       "    .dataframe tbody tr th:only-of-type {\n",
       "        vertical-align: middle;\n",
       "    }\n",
       "\n",
       "    .dataframe tbody tr th {\n",
       "        vertical-align: top;\n",
       "    }\n",
       "\n",
       "    .dataframe thead th {\n",
       "        text-align: right;\n",
       "    }\n",
       "</style>\n",
       "<table border=\"1\" class=\"dataframe\">\n",
       "  <thead>\n",
       "    <tr style=\"text-align: right;\">\n",
       "      <th></th>\n",
       "      <th>frame.time_delta</th>\n",
       "      <th>frame.time_relative</th>\n",
       "      <th>frame.len</th>\n",
       "      <th>ip.src</th>\n",
       "      <th>ip.dst</th>\n",
       "      <th>tcp.srcport</th>\n",
       "      <th>tcp.dstport</th>\n",
       "      <th>tcp.flags</th>\n",
       "      <th>tcp.time_delta</th>\n",
       "      <th>tcp.len</th>\n",
       "      <th>...</th>\n",
       "      <th>mqtt.qos</th>\n",
       "      <th>mqtt.retain</th>\n",
       "      <th>mqtt.topic</th>\n",
       "      <th>mqtt.topic_len</th>\n",
       "      <th>mqtt.ver</th>\n",
       "      <th>mqtt.willmsg_len</th>\n",
       "      <th>ip.proto</th>\n",
       "      <th>ip.ttl</th>\n",
       "      <th>class</th>\n",
       "      <th>label</th>\n",
       "    </tr>\n",
       "  </thead>\n",
       "  <tbody>\n",
       "    <tr>\n",
       "      <th>0</th>\n",
       "      <td>0.000000</td>\n",
       "      <td>0.000000</td>\n",
       "      <td>105</td>\n",
       "      <td>10.5.126.141</td>\n",
       "      <td>10.5.126.56</td>\n",
       "      <td>35161</td>\n",
       "      <td>1883</td>\n",
       "      <td>0x00000018</td>\n",
       "      <td>0.0</td>\n",
       "      <td>37</td>\n",
       "      <td>...</td>\n",
       "      <td>0.0</td>\n",
       "      <td>0.0</td>\n",
       "      <td>0</td>\n",
       "      <td>0.0</td>\n",
       "      <td>4.0</td>\n",
       "      <td>0.0</td>\n",
       "      <td>6</td>\n",
       "      <td>64</td>\n",
       "      <td>patientMonitoring</td>\n",
       "      <td>0</td>\n",
       "    </tr>\n",
       "    <tr>\n",
       "      <th>1</th>\n",
       "      <td>0.000249</td>\n",
       "      <td>0.000249</td>\n",
       "      <td>105</td>\n",
       "      <td>10.5.126.143</td>\n",
       "      <td>10.5.126.56</td>\n",
       "      <td>34237</td>\n",
       "      <td>1883</td>\n",
       "      <td>0x00000018</td>\n",
       "      <td>0.0</td>\n",
       "      <td>37</td>\n",
       "      <td>...</td>\n",
       "      <td>0.0</td>\n",
       "      <td>0.0</td>\n",
       "      <td>0</td>\n",
       "      <td>0.0</td>\n",
       "      <td>4.0</td>\n",
       "      <td>0.0</td>\n",
       "      <td>6</td>\n",
       "      <td>64</td>\n",
       "      <td>patientMonitoring</td>\n",
       "      <td>0</td>\n",
       "    </tr>\n",
       "    <tr>\n",
       "      <th>2</th>\n",
       "      <td>0.000037</td>\n",
       "      <td>0.000286</td>\n",
       "      <td>105</td>\n",
       "      <td>10.5.126.145</td>\n",
       "      <td>10.5.126.56</td>\n",
       "      <td>46623</td>\n",
       "      <td>1883</td>\n",
       "      <td>0x00000018</td>\n",
       "      <td>0.0</td>\n",
       "      <td>37</td>\n",
       "      <td>...</td>\n",
       "      <td>0.0</td>\n",
       "      <td>0.0</td>\n",
       "      <td>0</td>\n",
       "      <td>0.0</td>\n",
       "      <td>4.0</td>\n",
       "      <td>0.0</td>\n",
       "      <td>6</td>\n",
       "      <td>64</td>\n",
       "      <td>patientMonitoring</td>\n",
       "      <td>0</td>\n",
       "    </tr>\n",
       "    <tr>\n",
       "      <th>3</th>\n",
       "      <td>0.000034</td>\n",
       "      <td>0.000320</td>\n",
       "      <td>105</td>\n",
       "      <td>10.5.126.147</td>\n",
       "      <td>10.5.126.56</td>\n",
       "      <td>45663</td>\n",
       "      <td>1883</td>\n",
       "      <td>0x00000018</td>\n",
       "      <td>0.0</td>\n",
       "      <td>37</td>\n",
       "      <td>...</td>\n",
       "      <td>0.0</td>\n",
       "      <td>0.0</td>\n",
       "      <td>0</td>\n",
       "      <td>0.0</td>\n",
       "      <td>4.0</td>\n",
       "      <td>0.0</td>\n",
       "      <td>6</td>\n",
       "      <td>64</td>\n",
       "      <td>patientMonitoring</td>\n",
       "      <td>0</td>\n",
       "    </tr>\n",
       "    <tr>\n",
       "      <th>4</th>\n",
       "      <td>0.000017</td>\n",
       "      <td>0.000337</td>\n",
       "      <td>105</td>\n",
       "      <td>10.5.126.141</td>\n",
       "      <td>10.5.126.56</td>\n",
       "      <td>38901</td>\n",
       "      <td>1883</td>\n",
       "      <td>0x00000018</td>\n",
       "      <td>0.0</td>\n",
       "      <td>37</td>\n",
       "      <td>...</td>\n",
       "      <td>0.0</td>\n",
       "      <td>0.0</td>\n",
       "      <td>0</td>\n",
       "      <td>0.0</td>\n",
       "      <td>4.0</td>\n",
       "      <td>0.0</td>\n",
       "      <td>6</td>\n",
       "      <td>64</td>\n",
       "      <td>patientMonitoring</td>\n",
       "      <td>0</td>\n",
       "    </tr>\n",
       "  </tbody>\n",
       "</table>\n",
       "<p>5 rows × 52 columns</p>\n",
       "</div>"
      ],
      "text/plain": [
       "   frame.time_delta  frame.time_relative  frame.len        ip.src  \\\n",
       "0          0.000000             0.000000        105  10.5.126.141   \n",
       "1          0.000249             0.000249        105  10.5.126.143   \n",
       "2          0.000037             0.000286        105  10.5.126.145   \n",
       "3          0.000034             0.000320        105  10.5.126.147   \n",
       "4          0.000017             0.000337        105  10.5.126.141   \n",
       "\n",
       "        ip.dst  tcp.srcport  tcp.dstport   tcp.flags  tcp.time_delta  tcp.len  \\\n",
       "0  10.5.126.56        35161         1883  0x00000018             0.0       37   \n",
       "1  10.5.126.56        34237         1883  0x00000018             0.0       37   \n",
       "2  10.5.126.56        46623         1883  0x00000018             0.0       37   \n",
       "3  10.5.126.56        45663         1883  0x00000018             0.0       37   \n",
       "4  10.5.126.56        38901         1883  0x00000018             0.0       37   \n",
       "\n",
       "   ...  mqtt.qos  mqtt.retain  mqtt.topic  mqtt.topic_len  mqtt.ver  \\\n",
       "0  ...       0.0          0.0           0             0.0       4.0   \n",
       "1  ...       0.0          0.0           0             0.0       4.0   \n",
       "2  ...       0.0          0.0           0             0.0       4.0   \n",
       "3  ...       0.0          0.0           0             0.0       4.0   \n",
       "4  ...       0.0          0.0           0             0.0       4.0   \n",
       "\n",
       "   mqtt.willmsg_len  ip.proto  ip.ttl              class  label  \n",
       "0               0.0         6      64  patientMonitoring      0  \n",
       "1               0.0         6      64  patientMonitoring      0  \n",
       "2               0.0         6      64  patientMonitoring      0  \n",
       "3               0.0         6      64  patientMonitoring      0  \n",
       "4               0.0         6      64  patientMonitoring      0  \n",
       "\n",
       "[5 rows x 52 columns]"
      ]
     },
     "execution_count": 4,
     "metadata": {},
     "output_type": "execute_result"
    }
   ],
   "source": [
    "data.head()"
   ]
  },
  {
   "cell_type": "code",
   "execution_count": 5,
   "id": "3bbd5194-6346-45b6-b6da-ad8741b8b32f",
   "metadata": {
    "tags": []
   },
   "outputs": [
    {
     "data": {
      "text/html": [
       "<div>\n",
       "<style scoped>\n",
       "    .dataframe tbody tr th:only-of-type {\n",
       "        vertical-align: middle;\n",
       "    }\n",
       "\n",
       "    .dataframe tbody tr th {\n",
       "        vertical-align: top;\n",
       "    }\n",
       "\n",
       "    .dataframe thead th {\n",
       "        text-align: right;\n",
       "    }\n",
       "</style>\n",
       "<table border=\"1\" class=\"dataframe\">\n",
       "  <thead>\n",
       "    <tr style=\"text-align: right;\">\n",
       "      <th></th>\n",
       "      <th>frame.time_delta</th>\n",
       "      <th>frame.time_relative</th>\n",
       "      <th>frame.len</th>\n",
       "      <th>ip.src</th>\n",
       "      <th>ip.dst</th>\n",
       "      <th>tcp.srcport</th>\n",
       "      <th>tcp.dstport</th>\n",
       "      <th>tcp.flags</th>\n",
       "      <th>tcp.time_delta</th>\n",
       "      <th>tcp.len</th>\n",
       "      <th>...</th>\n",
       "      <th>mqtt.qos</th>\n",
       "      <th>mqtt.retain</th>\n",
       "      <th>mqtt.topic</th>\n",
       "      <th>mqtt.topic_len</th>\n",
       "      <th>mqtt.ver</th>\n",
       "      <th>mqtt.willmsg_len</th>\n",
       "      <th>ip.proto</th>\n",
       "      <th>ip.ttl</th>\n",
       "      <th>class</th>\n",
       "      <th>label</th>\n",
       "    </tr>\n",
       "  </thead>\n",
       "  <tbody>\n",
       "    <tr>\n",
       "      <th>76805</th>\n",
       "      <td>0.000196</td>\n",
       "      <td>6611.037621</td>\n",
       "      <td>78</td>\n",
       "      <td>10.5.126.165</td>\n",
       "      <td>10.5.126.56</td>\n",
       "      <td>44993</td>\n",
       "      <td>1883</td>\n",
       "      <td>0x00000018</td>\n",
       "      <td>1.989358</td>\n",
       "      <td>10</td>\n",
       "      <td>...</td>\n",
       "      <td>0.0</td>\n",
       "      <td>0.0</td>\n",
       "      <td>ECG</td>\n",
       "      <td>3.0</td>\n",
       "      <td>0.0</td>\n",
       "      <td>0.0</td>\n",
       "      <td>6</td>\n",
       "      <td>64</td>\n",
       "      <td>patientMonitoring</td>\n",
       "      <td>0</td>\n",
       "    </tr>\n",
       "    <tr>\n",
       "      <th>76806</th>\n",
       "      <td>0.000172</td>\n",
       "      <td>6611.037793</td>\n",
       "      <td>77</td>\n",
       "      <td>10.5.126.147</td>\n",
       "      <td>10.5.126.56</td>\n",
       "      <td>38323</td>\n",
       "      <td>1883</td>\n",
       "      <td>0x00000018</td>\n",
       "      <td>1.989338</td>\n",
       "      <td>9</td>\n",
       "      <td>...</td>\n",
       "      <td>0.0</td>\n",
       "      <td>0.0</td>\n",
       "      <td>EMG</td>\n",
       "      <td>3.0</td>\n",
       "      <td>0.0</td>\n",
       "      <td>0.0</td>\n",
       "      <td>6</td>\n",
       "      <td>64</td>\n",
       "      <td>patientMonitoring</td>\n",
       "      <td>0</td>\n",
       "    </tr>\n",
       "    <tr>\n",
       "      <th>76807</th>\n",
       "      <td>0.000126</td>\n",
       "      <td>6611.037919</td>\n",
       "      <td>77</td>\n",
       "      <td>10.5.126.147</td>\n",
       "      <td>10.5.126.56</td>\n",
       "      <td>41889</td>\n",
       "      <td>1883</td>\n",
       "      <td>0x00000018</td>\n",
       "      <td>1.989337</td>\n",
       "      <td>9</td>\n",
       "      <td>...</td>\n",
       "      <td>0.0</td>\n",
       "      <td>0.0</td>\n",
       "      <td>EMG</td>\n",
       "      <td>3.0</td>\n",
       "      <td>0.0</td>\n",
       "      <td>0.0</td>\n",
       "      <td>6</td>\n",
       "      <td>64</td>\n",
       "      <td>patientMonitoring</td>\n",
       "      <td>0</td>\n",
       "    </tr>\n",
       "    <tr>\n",
       "      <th>76808</th>\n",
       "      <td>0.000146</td>\n",
       "      <td>6611.038065</td>\n",
       "      <td>77</td>\n",
       "      <td>10.5.126.167</td>\n",
       "      <td>10.5.126.56</td>\n",
       "      <td>35965</td>\n",
       "      <td>1883</td>\n",
       "      <td>0x00000018</td>\n",
       "      <td>1.989211</td>\n",
       "      <td>9</td>\n",
       "      <td>...</td>\n",
       "      <td>0.0</td>\n",
       "      <td>0.0</td>\n",
       "      <td>EMG</td>\n",
       "      <td>3.0</td>\n",
       "      <td>0.0</td>\n",
       "      <td>0.0</td>\n",
       "      <td>6</td>\n",
       "      <td>64</td>\n",
       "      <td>patientMonitoring</td>\n",
       "      <td>0</td>\n",
       "    </tr>\n",
       "    <tr>\n",
       "      <th>76809</th>\n",
       "      <td>0.000147</td>\n",
       "      <td>6611.038212</td>\n",
       "      <td>77</td>\n",
       "      <td>10.5.126.167</td>\n",
       "      <td>10.5.126.56</td>\n",
       "      <td>33251</td>\n",
       "      <td>1883</td>\n",
       "      <td>0x00000018</td>\n",
       "      <td>1.989194</td>\n",
       "      <td>9</td>\n",
       "      <td>...</td>\n",
       "      <td>0.0</td>\n",
       "      <td>0.0</td>\n",
       "      <td>EMG</td>\n",
       "      <td>3.0</td>\n",
       "      <td>0.0</td>\n",
       "      <td>0.0</td>\n",
       "      <td>6</td>\n",
       "      <td>64</td>\n",
       "      <td>patientMonitoring</td>\n",
       "      <td>0</td>\n",
       "    </tr>\n",
       "  </tbody>\n",
       "</table>\n",
       "<p>5 rows × 52 columns</p>\n",
       "</div>"
      ],
      "text/plain": [
       "       frame.time_delta  frame.time_relative  frame.len        ip.src  \\\n",
       "76805          0.000196          6611.037621         78  10.5.126.165   \n",
       "76806          0.000172          6611.037793         77  10.5.126.147   \n",
       "76807          0.000126          6611.037919         77  10.5.126.147   \n",
       "76808          0.000146          6611.038065         77  10.5.126.167   \n",
       "76809          0.000147          6611.038212         77  10.5.126.167   \n",
       "\n",
       "            ip.dst  tcp.srcport  tcp.dstport   tcp.flags  tcp.time_delta  \\\n",
       "76805  10.5.126.56        44993         1883  0x00000018        1.989358   \n",
       "76806  10.5.126.56        38323         1883  0x00000018        1.989338   \n",
       "76807  10.5.126.56        41889         1883  0x00000018        1.989337   \n",
       "76808  10.5.126.56        35965         1883  0x00000018        1.989211   \n",
       "76809  10.5.126.56        33251         1883  0x00000018        1.989194   \n",
       "\n",
       "       tcp.len  ...  mqtt.qos  mqtt.retain  mqtt.topic  mqtt.topic_len  \\\n",
       "76805       10  ...       0.0          0.0         ECG             3.0   \n",
       "76806        9  ...       0.0          0.0         EMG             3.0   \n",
       "76807        9  ...       0.0          0.0         EMG             3.0   \n",
       "76808        9  ...       0.0          0.0         EMG             3.0   \n",
       "76809        9  ...       0.0          0.0         EMG             3.0   \n",
       "\n",
       "       mqtt.ver  mqtt.willmsg_len  ip.proto  ip.ttl              class  label  \n",
       "76805       0.0               0.0         6      64  patientMonitoring      0  \n",
       "76806       0.0               0.0         6      64  patientMonitoring      0  \n",
       "76807       0.0               0.0         6      64  patientMonitoring      0  \n",
       "76808       0.0               0.0         6      64  patientMonitoring      0  \n",
       "76809       0.0               0.0         6      64  patientMonitoring      0  \n",
       "\n",
       "[5 rows x 52 columns]"
      ]
     },
     "execution_count": 5,
     "metadata": {},
     "output_type": "execute_result"
    }
   ],
   "source": [
    "data.tail()"
   ]
  },
  {
   "cell_type": "code",
   "execution_count": 6,
   "id": "44b09578-54e8-4956-8651-4d5c1b739b98",
   "metadata": {
    "tags": []
   },
   "outputs": [
    {
     "data": {
      "text/plain": [
       "frame.time_delta         0\n",
       "frame.time_relative      0\n",
       "frame.len                0\n",
       "ip.src                   0\n",
       "ip.dst                   0\n",
       "tcp.srcport              0\n",
       "tcp.dstport              0\n",
       "tcp.flags                0\n",
       "tcp.time_delta           0\n",
       "tcp.len                  0\n",
       "tcp.ack                  0\n",
       "tcp.connection.fin       0\n",
       "tcp.connection.rst       0\n",
       "tcp.connection.sack      0\n",
       "tcp.connection.syn       0\n",
       "tcp.flags.ack            0\n",
       "tcp.flags.fin            0\n",
       "tcp.flags.push           0\n",
       "tcp.flags.reset          0\n",
       "tcp.flags.syn            0\n",
       "tcp.flags.urg            0\n",
       "tcp.hdr_len              0\n",
       "tcp.payload              0\n",
       "tcp.pdu.size             0\n",
       "tcp.window_size_value    0\n",
       "tcp.checksum             0\n",
       "mqtt.clientid            0\n",
       "mqtt.clientid_len        0\n",
       "mqtt.conack.flags        0\n",
       "mqtt.conack.val          0\n",
       "mqtt.conflag.passwd      0\n",
       "mqtt.conflag.qos         0\n",
       "mqtt.conflag.reserved    0\n",
       "mqtt.conflag.retain      0\n",
       "mqtt.conflag.willflag    0\n",
       "mqtt.conflags            0\n",
       "mqtt.dupflag             0\n",
       "mqtt.hdrflags            0\n",
       "mqtt.kalive              0\n",
       "mqtt.len                 0\n",
       "mqtt.msg                 0\n",
       "mqtt.msgtype             0\n",
       "mqtt.qos                 0\n",
       "mqtt.retain              0\n",
       "mqtt.topic               0\n",
       "mqtt.topic_len           0\n",
       "mqtt.ver                 0\n",
       "mqtt.willmsg_len         0\n",
       "ip.proto                 0\n",
       "ip.ttl                   0\n",
       "class                    0\n",
       "label                    0\n",
       "dtype: int64"
      ]
     },
     "execution_count": 6,
     "metadata": {},
     "output_type": "execute_result"
    }
   ],
   "source": [
    "data.isnull().sum()"
   ]
  },
  {
   "cell_type": "code",
   "execution_count": 7,
   "id": "21417151-fd89-4d4d-8284-0140aad624ea",
   "metadata": {
    "tags": []
   },
   "outputs": [
    {
     "data": {
      "text/plain": [
       "frame.time_delta         0\n",
       "frame.time_relative      0\n",
       "frame.len                0\n",
       "ip.src                   0\n",
       "ip.dst                   0\n",
       "tcp.srcport              0\n",
       "tcp.dstport              0\n",
       "tcp.flags                0\n",
       "tcp.time_delta           0\n",
       "tcp.len                  0\n",
       "tcp.ack                  0\n",
       "tcp.connection.fin       0\n",
       "tcp.connection.rst       0\n",
       "tcp.connection.sack      0\n",
       "tcp.connection.syn       0\n",
       "tcp.flags.ack            0\n",
       "tcp.flags.fin            0\n",
       "tcp.flags.push           0\n",
       "tcp.flags.reset          0\n",
       "tcp.flags.syn            0\n",
       "tcp.flags.urg            0\n",
       "tcp.hdr_len              0\n",
       "tcp.payload              0\n",
       "tcp.pdu.size             0\n",
       "tcp.window_size_value    0\n",
       "tcp.checksum             0\n",
       "mqtt.clientid            0\n",
       "mqtt.clientid_len        0\n",
       "mqtt.conack.flags        0\n",
       "mqtt.conack.val          0\n",
       "mqtt.conflag.passwd      0\n",
       "mqtt.conflag.qos         0\n",
       "mqtt.conflag.reserved    0\n",
       "mqtt.conflag.retain      0\n",
       "mqtt.conflag.willflag    0\n",
       "mqtt.conflags            0\n",
       "mqtt.dupflag             0\n",
       "mqtt.hdrflags            0\n",
       "mqtt.kalive              0\n",
       "mqtt.len                 0\n",
       "mqtt.msg                 0\n",
       "mqtt.msgtype             0\n",
       "mqtt.qos                 0\n",
       "mqtt.retain              0\n",
       "mqtt.topic               0\n",
       "mqtt.topic_len           0\n",
       "mqtt.ver                 0\n",
       "mqtt.willmsg_len         0\n",
       "ip.proto                 0\n",
       "ip.ttl                   0\n",
       "class                    0\n",
       "label                    0\n",
       "dtype: int64"
      ]
     },
     "execution_count": 7,
     "metadata": {},
     "output_type": "execute_result"
    }
   ],
   "source": [
    "data.isna().sum()"
   ]
  },
  {
   "cell_type": "markdown",
   "id": "16763e2e-c3bc-4d89-b546-5440c476e060",
   "metadata": {},
   "source": [
    "# Dependent and Independent variables"
   ]
  },
  {
   "cell_type": "code",
   "execution_count": 8,
   "id": "26767132-e129-4c03-ab56-8610c5f58aa0",
   "metadata": {
    "tags": []
   },
   "outputs": [],
   "source": [
    "X = data[['frame.time_delta', 'frame.time_relative', 'tcp.len', 'tcp.time_delta',\n",
    "        'tcp.pdu.size', 'tcp.window_size_value', 'mqtt.msgtype']]"
   ]
  },
  {
   "cell_type": "code",
   "execution_count": 9,
   "id": "db86aa3e-1e76-49de-999b-33687ee7367b",
   "metadata": {
    "tags": []
   },
   "outputs": [],
   "source": [
    "#calculating the throughput values\n",
    "if 'Throughput' not in data.columns:\n",
    "    data['Throughput'] = data['tcp.len'] / (data['tcp.time_delta'])"
   ]
  },
  {
   "cell_type": "code",
   "execution_count": 10,
   "id": "00a42891-84a9-4cc0-8829-38a6f1ec426f",
   "metadata": {
    "tags": []
   },
   "outputs": [],
   "source": [
    "y = data['Throughput']"
   ]
  },
  {
   "cell_type": "markdown",
   "id": "9cd4cd8d-8d4e-4f67-8a50-c406b55edea3",
   "metadata": {},
   "source": [
    "# Train and Test Data Split"
   ]
  },
  {
   "cell_type": "code",
   "execution_count": 11,
   "id": "7cf9b7bc-acc0-406e-b9d1-2ae09c38e4ee",
   "metadata": {
    "tags": []
   },
   "outputs": [],
   "source": [
    "X_train, X_test, y_train, y_test = train_test_split(X, y, test_size=0.2, random_state=42)"
   ]
  },
  {
   "cell_type": "code",
   "execution_count": 12,
   "id": "03621805-89c6-459c-a187-3768146ea986",
   "metadata": {
    "tags": []
   },
   "outputs": [],
   "source": [
    "scaler = MinMaxScaler()\n",
    "X_train_scaled = scaler.fit_transform(X_train)\n",
    "X_test_scaled = scaler.transform(X_test)"
   ]
  },
  {
   "cell_type": "code",
   "execution_count": 43,
   "id": "5cb8117c-a19a-48cb-be0c-53a00ea90456",
   "metadata": {
    "tags": []
   },
   "outputs": [],
   "source": [
    "# Define feature names\n",
    "feature_names = ['Feature1', 'Feature2', 'Feature3', 'Feature4', 'Feature5', 'Feature6', 'Feature7']\n",
    "\n",
    "# Convert the scaled array to a DataFrame For better visualiation of model\n",
    "X_train_scaled_df = pd.DataFrame(X_train_scaled, columns=feature_names)\n"
   ]
  },
  {
   "cell_type": "code",
   "execution_count": 13,
   "id": "9272d80c-22de-4fd2-8c5c-dcdadf6620c3",
   "metadata": {
    "tags": []
   },
   "outputs": [
    {
     "name": "stdout",
     "output_type": "stream",
     "text": [
      "NaN values in Throughput: 0\n",
      "Infinity values in Throughput: 96\n"
     ]
    }
   ],
   "source": [
    "# Check for NaN or infinity values\n",
    "print(\"NaN values in Throughput:\", data['Throughput'].isna().sum())\n",
    "print(\"Infinity values in Throughput:\", np.isinf(data['Throughput']).sum())"
   ]
  },
  {
   "cell_type": "code",
   "execution_count": 14,
   "id": "54386b41-06a7-4b68-9920-2eccb76e32f0",
   "metadata": {
    "tags": []
   },
   "outputs": [],
   "source": [
    "# Remove rows with invalid values\n",
    "data = data[~data['Throughput'].isna() & ~np.isinf(data['Throughput'])]"
   ]
  },
  {
   "cell_type": "code",
   "execution_count": 15,
   "id": "ee7ab274-98b6-44bf-8130-ea05bc3f4bd9",
   "metadata": {
    "tags": []
   },
   "outputs": [],
   "source": [
    "# Cap extreme values in Throughput\n",
    "data['Throughput'] = np.clip(data['Throughput'], a_min=0, a_max=data['Throughput'].quantile(0.99))"
   ]
  },
  {
   "cell_type": "markdown",
   "id": "3689caf8-18c5-447c-b271-dba6da591454",
   "metadata": {},
   "source": [
    "# Ridge Regression"
   ]
  },
  {
   "cell_type": "code",
   "execution_count": 51,
   "id": "a25c4b2e-2a30-4545-985b-331780225faf",
   "metadata": {
    "tags": []
   },
   "outputs": [
    {
     "name": "stdout",
     "output_type": "stream",
     "text": [
      "MSE: 77112514.44149344\n",
      "R2 Score: 0.44854954850028206\n"
     ]
    }
   ],
   "source": [
    "X = data[['frame.time_delta', 'frame.time_relative', 'tcp.len', 'tcp.time_delta',\n",
    "        'tcp.pdu.size', 'tcp.window_size_value', 'mqtt.msgtype']]\n",
    "y = data['Throughput']\n",
    "\n",
    "# Train-Test Split\n",
    "X_train, X_test, y_train, y_test = train_test_split(X, y, test_size=0.2, random_state=42)\n",
    "\n",
    "# Scaling\n",
    "scaler = MinMaxScaler()\n",
    "X_train_scaled = scaler.fit_transform(X_train)\n",
    "X_test_scaled = scaler.transform(X_test)\n",
    "\n",
    "# Ridge Regression\n",
    "ridge_model = Ridge(alpha=1.0)\n",
    "ridge_model.fit(X_train_scaled, y_train)\n",
    "ridge_preds = ridge_model.predict(X_test_scaled)\n",
    "\n",
    "# Evaluate Model\n",
    "print(\"MSE:\", mean_squared_error(y_test, ridge_preds))\n",
    "print(\"R2 Score:\", r2_score(y_test, ridge_preds))\n"
   ]
  },
  {
   "cell_type": "code",
   "execution_count": 17,
   "id": "34d52e86-1fa6-439d-9179-484d78dec7e4",
   "metadata": {
    "tags": []
   },
   "outputs": [],
   "source": [
    "import matplotlib.pyplot as plt\n",
    "import numpy as np\n"
   ]
  },
  {
   "cell_type": "code",
   "execution_count": 18,
   "id": "32bdc1f4-5d5a-4142-9ed7-fbf4cfb17414",
   "metadata": {
    "tags": []
   },
   "outputs": [],
   "source": [
    "ridge_preds = ridge_model.predict(X_test_scaled)"
   ]
  },
  {
   "cell_type": "code",
   "execution_count": 88,
   "id": "6813eaa9-0672-458d-9ee7-c990392a9815",
   "metadata": {
    "tags": []
   },
   "outputs": [
    {
     "data": {
      "image/png": "[encoded data removed]",
      "text/plain": [
       "<Figure size 640x480 with 1 Axes>"
      ]
     },
     "metadata": {},
     "output_type": "display_data"
    }
   ],
   "source": [
    "# Plot coefficients\n",
    "plt.bar(X_train.columns, ridge_model.coef_)\n",
    "plt.xticks(rotation=90)\n",
    "plt.show()\n"
   ]
  },
  {
   "cell_type": "markdown",
   "id": "d0ae8615-9ccf-482a-a0eb-234fc05e6e6f",
   "metadata": {},
   "source": [
    "# Random Forest Regressor"
   ]
  },
  {
   "cell_type": "code",
   "execution_count": 22,
   "id": "5adf1cc5-2a49-4ec6-9f4f-9c0e81413ae2",
   "metadata": {
    "tags": []
   },
   "outputs": [],
   "source": [
    "from sklearn.ensemble import RandomForestRegressor\n",
    "from sklearn.metrics import mean_squared_error, r2_score\n",
    "import matplotlib.pyplot as plt\n",
    "import seaborn as sns"
   ]
  },
  {
   "cell_type": "code",
   "execution_count": 23,
   "id": "aacf5be7-cbab-406b-978c-b8d89bec0f1a",
   "metadata": {
    "tags": []
   },
   "outputs": [],
   "source": [
    "# Initialize the Random Forest Regressor\n",
    "rf_model = RandomForestRegressor(n_estimators=100, random_state=42)\n",
    "\n",
    "# Train the model\n",
    "rf_model.fit(X_train_scaled, y_train)\n",
    "\n",
    "# Predict on the test data\n",
    "rf_preds = rf_model.predict(X_test_scaled)\n",
    "\n",
    "# Evaluate the model\n",
    "mse_rf = mean_squared_error(y_test, rf_preds)\n",
    "r2_rf = r2_score(y_test, rf_preds)"
   ]
  },
  {
   "cell_type": "code",
   "execution_count": 24,
   "id": "f4f8f487-61ae-4ebe-b017-872ff13fb046",
   "metadata": {
    "tags": []
   },
   "outputs": [
    {
     "name": "stdout",
     "output_type": "stream",
     "text": [
      "Random Forest Regression\n",
      "Mean Squared Error: 2899.790503548777\n",
      "R² Score: 0.9999792628888576\n"
     ]
    }
   ],
   "source": [
    "# Print the metrics\n",
    "print(\"Random Forest Regression\")\n",
    "print(\"Mean Squared Error:\", mse_rf)\n",
    "print(\"R² Score:\", r2_rf)"
   ]
  },
  {
   "cell_type": "code",
   "execution_count": 32,
   "id": "c2966629-9709-4bfc-9390-eeb5d79cb7f3",
   "metadata": {
    "tags": []
   },
   "outputs": [
    {
     "data": {
      "image/png": "[encoded data removed]",
      "text/plain": [
       "<Figure size 640x480 with 1 Axes>"
      ]
     },
     "metadata": {},
     "output_type": "display_data"
    },
    {
     "ename": "InvalidParameterError",
     "evalue": "The 'feature_names' parameter of plot_tree must be an instance of 'list' or None. Got Index(['frame.time_delta', 'frame.time_relative', 'tcp.len', 'tcp.time_delta',\n       'tcp.pdu.size', 'tcp.window_size_value', 'mqtt.msgtype'],\n      dtype='object') instead.",
     "output_type": "error",
     "traceback": [
      "\u001b[1;31m---------------------------------------------------------------------------\u001b[0m",
      "\u001b[1;31mInvalidParameterError\u001b[0m                     Traceback (most recent call last)",
      "Cell \u001b[1;32mIn[32], line 10\u001b[0m\n\u001b[0;32m      7\u001b[0m plt\u001b[38;5;241m.\u001b[39mshow()\n\u001b[0;32m      9\u001b[0m \u001b[38;5;66;03m# Visualize a single tree\u001b[39;00m\n\u001b[1;32m---> 10\u001b[0m plot_tree(rf_model\u001b[38;5;241m.\u001b[39mestimators_[\u001b[38;5;241m0\u001b[39m], feature_names\u001b[38;5;241m=\u001b[39mX_train\u001b[38;5;241m.\u001b[39mcolumns, filled\u001b[38;5;241m=\u001b[39m\u001b[38;5;28;01mTrue\u001b[39;00m)\n\u001b[0;32m     11\u001b[0m plt\u001b[38;5;241m.\u001b[39mshow()\n",
      "File \u001b[1;32m~\\anaconda3\\Lib\\site-packages\\sklearn\\utils\\_param_validation.py:201\u001b[0m, in \u001b[0;36mvalidate_params.<locals>.decorator.<locals>.wrapper\u001b[1;34m(*args, **kwargs)\u001b[0m\n\u001b[0;32m    198\u001b[0m to_ignore \u001b[38;5;241m+\u001b[39m\u001b[38;5;241m=\u001b[39m [\u001b[38;5;124m\"\u001b[39m\u001b[38;5;124mself\u001b[39m\u001b[38;5;124m\"\u001b[39m, \u001b[38;5;124m\"\u001b[39m\u001b[38;5;124mcls\u001b[39m\u001b[38;5;124m\"\u001b[39m]\n\u001b[0;32m    199\u001b[0m params \u001b[38;5;241m=\u001b[39m {k: v \u001b[38;5;28;01mfor\u001b[39;00m k, v \u001b[38;5;129;01min\u001b[39;00m params\u001b[38;5;241m.\u001b[39marguments\u001b[38;5;241m.\u001b[39mitems() \u001b[38;5;28;01mif\u001b[39;00m k \u001b[38;5;129;01mnot\u001b[39;00m \u001b[38;5;129;01min\u001b[39;00m to_ignore}\n\u001b[1;32m--> 201\u001b[0m validate_parameter_constraints(\n\u001b[0;32m    202\u001b[0m     parameter_constraints, params, caller_name\u001b[38;5;241m=\u001b[39mfunc\u001b[38;5;241m.\u001b[39m\u001b[38;5;18m__qualname__\u001b[39m\n\u001b[0;32m    203\u001b[0m )\n\u001b[0;32m    205\u001b[0m \u001b[38;5;28;01mtry\u001b[39;00m:\n\u001b[0;32m    206\u001b[0m     \u001b[38;5;28;01mwith\u001b[39;00m config_context(\n\u001b[0;32m    207\u001b[0m         skip_parameter_validation\u001b[38;5;241m=\u001b[39m(\n\u001b[0;32m    208\u001b[0m             prefer_skip_nested_validation \u001b[38;5;129;01mor\u001b[39;00m global_skip_validation\n\u001b[0;32m    209\u001b[0m         )\n\u001b[0;32m    210\u001b[0m     ):\n",
      "File \u001b[1;32m~\\anaconda3\\Lib\\site-packages\\sklearn\\utils\\_param_validation.py:95\u001b[0m, in \u001b[0;36mvalidate_parameter_constraints\u001b[1;34m(parameter_constraints, params, caller_name)\u001b[0m\n\u001b[0;32m     89\u001b[0m \u001b[38;5;28;01melse\u001b[39;00m:\n\u001b[0;32m     90\u001b[0m     constraints_str \u001b[38;5;241m=\u001b[39m (\n\u001b[0;32m     91\u001b[0m         \u001b[38;5;124mf\u001b[39m\u001b[38;5;124m\"\u001b[39m\u001b[38;5;132;01m{\u001b[39;00m\u001b[38;5;124m'\u001b[39m\u001b[38;5;124m, \u001b[39m\u001b[38;5;124m'\u001b[39m\u001b[38;5;241m.\u001b[39mjoin([\u001b[38;5;28mstr\u001b[39m(c)\u001b[38;5;250m \u001b[39m\u001b[38;5;28;01mfor\u001b[39;00m\u001b[38;5;250m \u001b[39mc\u001b[38;5;250m \u001b[39m\u001b[38;5;129;01min\u001b[39;00m\u001b[38;5;250m \u001b[39mconstraints[:\u001b[38;5;241m-\u001b[39m\u001b[38;5;241m1\u001b[39m]])\u001b[38;5;132;01m}\u001b[39;00m\u001b[38;5;124m or\u001b[39m\u001b[38;5;124m\"\u001b[39m\n\u001b[0;32m     92\u001b[0m         \u001b[38;5;124mf\u001b[39m\u001b[38;5;124m\"\u001b[39m\u001b[38;5;124m \u001b[39m\u001b[38;5;132;01m{\u001b[39;00mconstraints[\u001b[38;5;241m-\u001b[39m\u001b[38;5;241m1\u001b[39m]\u001b[38;5;132;01m}\u001b[39;00m\u001b[38;5;124m\"\u001b[39m\n\u001b[0;32m     93\u001b[0m     )\n\u001b[1;32m---> 95\u001b[0m \u001b[38;5;28;01mraise\u001b[39;00m InvalidParameterError(\n\u001b[0;32m     96\u001b[0m     \u001b[38;5;124mf\u001b[39m\u001b[38;5;124m\"\u001b[39m\u001b[38;5;124mThe \u001b[39m\u001b[38;5;132;01m{\u001b[39;00mparam_name\u001b[38;5;132;01m!r}\u001b[39;00m\u001b[38;5;124m parameter of \u001b[39m\u001b[38;5;132;01m{\u001b[39;00mcaller_name\u001b[38;5;132;01m}\u001b[39;00m\u001b[38;5;124m must be\u001b[39m\u001b[38;5;124m\"\u001b[39m\n\u001b[0;32m     97\u001b[0m     \u001b[38;5;124mf\u001b[39m\u001b[38;5;124m\"\u001b[39m\u001b[38;5;124m \u001b[39m\u001b[38;5;132;01m{\u001b[39;00mconstraints_str\u001b[38;5;132;01m}\u001b[39;00m\u001b[38;5;124m. Got \u001b[39m\u001b[38;5;132;01m{\u001b[39;00mparam_val\u001b[38;5;132;01m!r}\u001b[39;00m\u001b[38;5;124m instead.\u001b[39m\u001b[38;5;124m\"\u001b[39m\n\u001b[0;32m     98\u001b[0m )\n",
      "\u001b[1;31mInvalidParameterError\u001b[0m: The 'feature_names' parameter of plot_tree must be an instance of 'list' or None. Got Index(['frame.time_delta', 'frame.time_relative', 'tcp.len', 'tcp.time_delta',\n       'tcp.pdu.size', 'tcp.window_size_value', 'mqtt.msgtype'],\n      dtype='object') instead."
     ]
    }
   ],
   "source": [
    "from sklearn.tree import plot_tree\n",
    "\n",
    "# Visualize feature importance\n",
    "plt.barh(X_train.columns, rf_model.feature_importances_)\n",
    "plt.show()\n",
    "\n",
    "# Visualize a single tree\n",
    "plot_tree(rf_model.estimators_[0], feature_names=X_train.columns, filled=True)\n",
    "plt.show()\n"
   ]
  },
  {
   "cell_type": "markdown",
   "id": "c29fe56b-ff3f-46fd-9193-6d53884f0c5f",
   "metadata": {},
   "source": [
    "# Decision Tree"
   ]
  },
  {
   "cell_type": "code",
   "execution_count": 27,
   "id": "553a7d1b-337d-4b37-a889-d23e3287dedf",
   "metadata": {
    "tags": []
   },
   "outputs": [],
   "source": [
    "from sklearn.tree import DecisionTreeRegressor\n",
    "from sklearn.metrics import mean_squared_error, r2_score\n",
    "import matplotlib.pyplot as plt\n",
    "import seaborn as sns"
   ]
  },
  {
   "cell_type": "code",
   "execution_count": 45,
   "id": "4d56317e-f2ec-4d12-837e-447aa8d80674",
   "metadata": {
    "tags": []
   },
   "outputs": [
    {
     "name": "stdout",
     "output_type": "stream",
     "text": [
      "Decision Tree Regression\n",
      "Mean Squared Error: 3920.970556784338\n",
      "R² Score: 0.9999719601805295\n"
     ]
    }
   ],
   "source": [
    "# Initialize the Decision Tree Regressor\n",
    "dt_model = DecisionTreeRegressor(random_state=42)\n",
    "\n",
    "# Train the model\n",
    "dt_model.fit(X_train_scaled, y_train)\n",
    "\n",
    "# Predict on the test set\n",
    "dt_preds = dt_model.predict(X_test_scaled)\n",
    "\n",
    "# Evaluate the model\n",
    "mse_dt = mean_squared_error(y_test, dt_preds)\n",
    "r2_dt = r2_score(y_test, dt_preds)\n",
    "\n",
    "# Print the metrics\n",
    "print(\"Decision Tree Regression\")\n",
    "print(\"Mean Squared Error:\", mse_dt)\n",
    "print(\"R² Score:\", r2_dt)"
   ]
  },
  {
   "cell_type": "code",
   "execution_count": 46,
   "id": "0c606d48-3811-4100-8839-a2542d8a46fd",
   "metadata": {
    "tags": []
   },
   "outputs": [
    {
     "data": {
      "image/png": "[encoded data removed]",
      "text/plain": [
       "<Figure size 1000x600 with 1 Axes>"
      ]
     },
     "metadata": {},
     "output_type": "display_data"
    }
   ],
   "source": [
    "# Feature importance plot using DataFrame\n",
    "plt.figure(figsize=(10, 6))\n",
    "plt.barh(X_train_scaled_df.columns, dt_model.feature_importances_)\n",
    "plt.xlabel(\"Feature Importance Score\")\n",
    "plt.title(\"Feature Importance in Decision Tree\")\n",
    "plt.show()"
   ]
  },
  {
   "cell_type": "markdown",
   "id": "b301c3ea-ecc3-499d-a349-fe4e05568c6f",
   "metadata": {
    "tags": []
   },
   "source": [
    "# CNN Model"
   ]
  },
  {
   "cell_type": "code",
   "execution_count": 55,
   "id": "36448a66-56fa-4993-ae2d-b34a1f24793e",
   "metadata": {
    "tags": []
   },
   "outputs": [],
   "source": [
    "from tensorflow.keras.models import Sequential\n",
    "from tensorflow.keras.layers import Dense, Conv1D, Flatten, MaxPooling1D"
   ]
  },
  {
   "cell_type": "code",
   "execution_count": 56,
   "id": "71a69f70-b1ce-4aaf-98dd-153829f8a43d",
   "metadata": {
    "tags": []
   },
   "outputs": [
    {
     "name": "stderr",
     "output_type": "stream",
     "text": [
      "C:\\Users\\jayaragularumugam\\anaconda3\\Lib\\site-packages\\keras\\src\\layers\\convolutional\\base_conv.py:107: UserWarning: Do not pass an `input_shape`/`input_dim` argument to a layer. When using Sequential models, prefer using an `Input(shape)` object as the first layer in the model instead.\n",
      "  super().__init__(activity_regularizer=activity_regularizer, **kwargs)\n"
     ]
    },
    {
     "data": {
      "text/html": [
       "<pre style=\"white-space:pre;overflow-x:auto;line-height:normal;font-family:Menlo,'DejaVu Sans Mono',consolas,'Courier New',monospace\"><span style=\"font-weight: bold\">Model: \"sequential\"</span>\n",
       "</pre>\n"
      ],
      "text/plain": [
       "\u001b[1mModel: \"sequential\"\u001b[0m\n"
      ]
     },
     "metadata": {},
     "output_type": "display_data"
    },
    {
     "data": {
      "text/html": [
       "<pre style=\"white-space:pre;overflow-x:auto;line-height:normal;font-family:Menlo,'DejaVu Sans Mono',consolas,'Courier New',monospace\">┏━━━━━━━━━━━━━━━━━━━━━━━━━━━━━━━━━┳━━━━━━━━━━━━━━━━━━━━━━━━┳━━━━━━━━━━━━━━━┓\n",
       "┃<span style=\"font-weight: bold\"> Layer (type)                    </span>┃<span style=\"font-weight: bold\"> Output Shape           </span>┃<span style=\"font-weight: bold\">       Param # </span>┃\n",
       "┡━━━━━━━━━━━━━━━━━━━━━━━━━━━━━━━━━╇━━━━━━━━━━━━━━━━━━━━━━━━╇━━━━━━━━━━━━━━━┩\n",
       "│ conv1d (<span style=\"color: #0087ff; text-decoration-color: #0087ff\">Conv1D</span>)                 │ (<span style=\"color: #00d7ff; text-decoration-color: #00d7ff\">None</span>, <span style=\"color: #00af00; text-decoration-color: #00af00\">6</span>, <span style=\"color: #00af00; text-decoration-color: #00af00\">64</span>)          │           <span style=\"color: #00af00; text-decoration-color: #00af00\">192</span> │\n",
       "├─────────────────────────────────┼────────────────────────┼───────────────┤\n",
       "│ max_pooling1d (<span style=\"color: #0087ff; text-decoration-color: #0087ff\">MaxPooling1D</span>)    │ (<span style=\"color: #00d7ff; text-decoration-color: #00d7ff\">None</span>, <span style=\"color: #00af00; text-decoration-color: #00af00\">3</span>, <span style=\"color: #00af00; text-decoration-color: #00af00\">64</span>)          │             <span style=\"color: #00af00; text-decoration-color: #00af00\">0</span> │\n",
       "├─────────────────────────────────┼────────────────────────┼───────────────┤\n",
       "│ flatten (<span style=\"color: #0087ff; text-decoration-color: #0087ff\">Flatten</span>)               │ (<span style=\"color: #00d7ff; text-decoration-color: #00d7ff\">None</span>, <span style=\"color: #00af00; text-decoration-color: #00af00\">192</span>)            │             <span style=\"color: #00af00; text-decoration-color: #00af00\">0</span> │\n",
       "├─────────────────────────────────┼────────────────────────┼───────────────┤\n",
       "│ dense (<span style=\"color: #0087ff; text-decoration-color: #0087ff\">Dense</span>)                   │ (<span style=\"color: #00d7ff; text-decoration-color: #00d7ff\">None</span>, <span style=\"color: #00af00; text-decoration-color: #00af00\">64</span>)             │        <span style=\"color: #00af00; text-decoration-color: #00af00\">12,352</span> │\n",
       "├─────────────────────────────────┼────────────────────────┼───────────────┤\n",
       "│ dense_1 (<span style=\"color: #0087ff; text-decoration-color: #0087ff\">Dense</span>)                 │ (<span style=\"color: #00d7ff; text-decoration-color: #00d7ff\">None</span>, <span style=\"color: #00af00; text-decoration-color: #00af00\">32</span>)             │         <span style=\"color: #00af00; text-decoration-color: #00af00\">2,080</span> │\n",
       "├─────────────────────────────────┼────────────────────────┼───────────────┤\n",
       "│ dense_2 (<span style=\"color: #0087ff; text-decoration-color: #0087ff\">Dense</span>)                 │ (<span style=\"color: #00d7ff; text-decoration-color: #00d7ff\">None</span>, <span style=\"color: #00af00; text-decoration-color: #00af00\">1</span>)              │            <span style=\"color: #00af00; text-decoration-color: #00af00\">33</span> │\n",
       "└─────────────────────────────────┴────────────────────────┴───────────────┘\n",
       "</pre>\n"
      ],
      "text/plain": [
       "┏━━━━━━━━━━━━━━━━━━━━━━━━━━━━━━━━━┳━━━━━━━━━━━━━━━━━━━━━━━━┳━━━━━━━━━━━━━━━┓\n",
       "┃\u001b[1m \u001b[0m\u001b[1mLayer (type)                   \u001b[0m\u001b[1m \u001b[0m┃\u001b[1m \u001b[0m\u001b[1mOutput Shape          \u001b[0m\u001b[1m \u001b[0m┃\u001b[1m \u001b[0m\u001b[1m      Param #\u001b[0m\u001b[1m \u001b[0m┃\n",
       "┡━━━━━━━━━━━━━━━━━━━━━━━━━━━━━━━━━╇━━━━━━━━━━━━━━━━━━━━━━━━╇━━━━━━━━━━━━━━━┩\n",
       "│ conv1d (\u001b[38;5;33mConv1D\u001b[0m)                 │ (\u001b[38;5;45mNone\u001b[0m, \u001b[38;5;34m6\u001b[0m, \u001b[38;5;34m64\u001b[0m)          │           \u001b[38;5;34m192\u001b[0m │\n",
       "├─────────────────────────────────┼────────────────────────┼───────────────┤\n",
       "│ max_pooling1d (\u001b[38;5;33mMaxPooling1D\u001b[0m)    │ (\u001b[38;5;45mNone\u001b[0m, \u001b[38;5;34m3\u001b[0m, \u001b[38;5;34m64\u001b[0m)          │             \u001b[38;5;34m0\u001b[0m │\n",
       "├─────────────────────────────────┼────────────────────────┼───────────────┤\n",
       "│ flatten (\u001b[38;5;33mFlatten\u001b[0m)               │ (\u001b[38;5;45mNone\u001b[0m, \u001b[38;5;34m192\u001b[0m)            │             \u001b[38;5;34m0\u001b[0m │\n",
       "├─────────────────────────────────┼────────────────────────┼───────────────┤\n",
       "│ dense (\u001b[38;5;33mDense\u001b[0m)                   │ (\u001b[38;5;45mNone\u001b[0m, \u001b[38;5;34m64\u001b[0m)             │        \u001b[38;5;34m12,352\u001b[0m │\n",
       "├─────────────────────────────────┼────────────────────────┼───────────────┤\n",
       "│ dense_1 (\u001b[38;5;33mDense\u001b[0m)                 │ (\u001b[38;5;45mNone\u001b[0m, \u001b[38;5;34m32\u001b[0m)             │         \u001b[38;5;34m2,080\u001b[0m │\n",
       "├─────────────────────────────────┼────────────────────────┼───────────────┤\n",
       "│ dense_2 (\u001b[38;5;33mDense\u001b[0m)                 │ (\u001b[38;5;45mNone\u001b[0m, \u001b[38;5;34m1\u001b[0m)              │            \u001b[38;5;34m33\u001b[0m │\n",
       "└─────────────────────────────────┴────────────────────────┴───────────────┘\n"
      ]
     },
     "metadata": {},
     "output_type": "display_data"
    },
    {
     "data": {
      "text/html": [
       "<pre style=\"white-space:pre;overflow-x:auto;line-height:normal;font-family:Menlo,'DejaVu Sans Mono',consolas,'Courier New',monospace\"><span style=\"font-weight: bold\"> Total params: </span><span style=\"color: #00af00; text-decoration-color: #00af00\">14,657</span> (57.25 KB)\n",
       "</pre>\n"
      ],
      "text/plain": [
       "\u001b[1m Total params: \u001b[0m\u001b[38;5;34m14,657\u001b[0m (57.25 KB)\n"
      ]
     },
     "metadata": {},
     "output_type": "display_data"
    },
    {
     "data": {
      "text/html": [
       "<pre style=\"white-space:pre;overflow-x:auto;line-height:normal;font-family:Menlo,'DejaVu Sans Mono',consolas,'Courier New',monospace\"><span style=\"font-weight: bold\"> Trainable params: </span><span style=\"color: #00af00; text-decoration-color: #00af00\">14,657</span> (57.25 KB)\n",
       "</pre>\n"
      ],
      "text/plain": [
       "\u001b[1m Trainable params: \u001b[0m\u001b[38;5;34m14,657\u001b[0m (57.25 KB)\n"
      ]
     },
     "metadata": {},
     "output_type": "display_data"
    },
    {
     "data": {
      "text/html": [
       "<pre style=\"white-space:pre;overflow-x:auto;line-height:normal;font-family:Menlo,'DejaVu Sans Mono',consolas,'Courier New',monospace\"><span style=\"font-weight: bold\"> Non-trainable params: </span><span style=\"color: #00af00; text-decoration-color: #00af00\">0</span> (0.00 B)\n",
       "</pre>\n"
      ],
      "text/plain": [
       "\u001b[1m Non-trainable params: \u001b[0m\u001b[38;5;34m0\u001b[0m (0.00 B)\n"
      ]
     },
     "metadata": {},
     "output_type": "display_data"
    }
   ],
   "source": [
    "# Build the CNN Model\n",
    "cnn_model = Sequential([\n",
    "    Conv1D(filters=64, kernel_size=2, activation='relu', input_shape=(X_train_scaled.shape[1], 1)),\n",
    "    MaxPooling1D(pool_size=2),\n",
    "    Flatten(),\n",
    "    Dense(64, activation='relu'),\n",
    "    Dense(32, activation='relu'),\n",
    "    Dense(1)  # Output layer for regression\n",
    "])\n",
    "\n",
    "# Compile the model\n",
    "cnn_model.compile(optimizer='adam', loss='mean_squared_error', metrics=['mae'])\n",
    "\n",
    "# Summary of the model\n",
    "cnn_model.summary()\n"
   ]
  },
  {
   "cell_type": "code",
   "execution_count": 57,
   "id": "34f75b56-bf39-4f74-baf0-33972976a322",
   "metadata": {
    "tags": []
   },
   "outputs": [
    {
     "name": "stdout",
     "output_type": "stream",
     "text": [
      "Epoch 1/50\n",
      "\u001b[1m1918/1918\u001b[0m \u001b[32m━━━━━━━━━━━━━━━━━━━━\u001b[0m\u001b[37m\u001b[0m \u001b[1m3s\u001b[0m 1ms/step - loss: 119014488.0000 - mae: 3206.0884 - val_loss: 77640248.0000 - val_mae: 2379.1147\n",
      "Epoch 2/50\n",
      "\u001b[1m1918/1918\u001b[0m \u001b[32m━━━━━━━━━━━━━━━━━━━━\u001b[0m\u001b[37m\u001b[0m \u001b[1m2s\u001b[0m 1ms/step - loss: 74031088.0000 - mae: 2200.1982 - val_loss: 76719880.0000 - val_mae: 2222.1941\n",
      "Epoch 3/50\n",
      "\u001b[1m1918/1918\u001b[0m \u001b[32m━━━━━━━━━━━━━━━━━━━━\u001b[0m\u001b[37m\u001b[0m \u001b[1m2s\u001b[0m 1ms/step - loss: 75019400.0000 - mae: 2186.6023 - val_loss: 76382456.0000 - val_mae: 2208.5156\n",
      "Epoch 4/50\n",
      "\u001b[1m1918/1918\u001b[0m \u001b[32m━━━━━━━━━━━━━━━━━━━━\u001b[0m\u001b[37m\u001b[0m \u001b[1m2s\u001b[0m 1ms/step - loss: 74963560.0000 - mae: 2183.0183 - val_loss: 75912472.0000 - val_mae: 2228.9451\n",
      "Epoch 5/50\n",
      "\u001b[1m1918/1918\u001b[0m \u001b[32m━━━━━━━━━━━━━━━━━━━━\u001b[0m\u001b[37m\u001b[0m \u001b[1m2s\u001b[0m 1ms/step - loss: 71822312.0000 - mae: 2138.9312 - val_loss: 75442672.0000 - val_mae: 2226.6655\n",
      "Epoch 6/50\n",
      "\u001b[1m1918/1918\u001b[0m \u001b[32m━━━━━━━━━━━━━━━━━━━━\u001b[0m\u001b[37m\u001b[0m \u001b[1m2s\u001b[0m 1ms/step - loss: 72377952.0000 - mae: 2169.9668 - val_loss: 75099640.0000 - val_mae: 2221.5955\n",
      "Epoch 7/50\n",
      "\u001b[1m1918/1918\u001b[0m \u001b[32m━━━━━━━━━━━━━━━━━━━━\u001b[0m\u001b[37m\u001b[0m \u001b[1m2s\u001b[0m 1ms/step - loss: 72444144.0000 - mae: 2182.2297 - val_loss: 74494168.0000 - val_mae: 2221.1333\n",
      "Epoch 8/50\n",
      "\u001b[1m1918/1918\u001b[0m \u001b[32m━━━━━━━━━━━━━━━━━━━━\u001b[0m\u001b[37m\u001b[0m \u001b[1m2s\u001b[0m 1ms/step - loss: 71233728.0000 - mae: 2142.7620 - val_loss: 73666168.0000 - val_mae: 2225.6938\n",
      "Epoch 9/50\n",
      "\u001b[1m1918/1918\u001b[0m \u001b[32m━━━━━━━━━━━━━━━━━━━━\u001b[0m\u001b[37m\u001b[0m \u001b[1m2s\u001b[0m 1ms/step - loss: 70229616.0000 - mae: 2123.7542 - val_loss: 72932280.0000 - val_mae: 2167.5513\n",
      "Epoch 10/50\n",
      "\u001b[1m1918/1918\u001b[0m \u001b[32m━━━━━━━━━━━━━━━━━━━━\u001b[0m\u001b[37m\u001b[0m \u001b[1m2s\u001b[0m 1ms/step - loss: 68391208.0000 - mae: 2045.8336 - val_loss: 71969560.0000 - val_mae: 2121.5347\n",
      "Epoch 11/50\n",
      "\u001b[1m1918/1918\u001b[0m \u001b[32m━━━━━━━━━━━━━━━━━━━━\u001b[0m\u001b[37m\u001b[0m \u001b[1m2s\u001b[0m 1ms/step - loss: 70742400.0000 - mae: 2105.7703 - val_loss: 70585616.0000 - val_mae: 2138.5596\n",
      "Epoch 12/50\n",
      "\u001b[1m1918/1918\u001b[0m \u001b[32m━━━━━━━━━━━━━━━━━━━━\u001b[0m\u001b[37m\u001b[0m \u001b[1m2s\u001b[0m 1ms/step - loss: 68838288.0000 - mae: 2096.4055 - val_loss: 69523760.0000 - val_mae: 2061.3579\n",
      "Epoch 13/50\n",
      "\u001b[1m1918/1918\u001b[0m \u001b[32m━━━━━━━━━━━━━━━━━━━━\u001b[0m\u001b[37m\u001b[0m \u001b[1m2s\u001b[0m 1ms/step - loss: 65903260.0000 - mae: 2054.0286 - val_loss: 64741580.0000 - val_mae: 2036.9742\n",
      "Epoch 14/50\n",
      "\u001b[1m1918/1918\u001b[0m \u001b[32m━━━━━━━━━━━━━━━━━━━━\u001b[0m\u001b[37m\u001b[0m \u001b[1m2s\u001b[0m 1ms/step - loss: 60812012.0000 - mae: 1932.7227 - val_loss: 60426620.0000 - val_mae: 1938.3835\n",
      "Epoch 15/50\n",
      "\u001b[1m1918/1918\u001b[0m \u001b[32m━━━━━━━━━━━━━━━━━━━━\u001b[0m\u001b[37m\u001b[0m \u001b[1m2s\u001b[0m 1ms/step - loss: 56727756.0000 - mae: 1844.4806 - val_loss: 56362320.0000 - val_mae: 1801.3959\n",
      "Epoch 16/50\n",
      "\u001b[1m1918/1918\u001b[0m \u001b[32m━━━━━━━━━━━━━━━━━━━━\u001b[0m\u001b[37m\u001b[0m \u001b[1m2s\u001b[0m 1ms/step - loss: 56380392.0000 - mae: 1820.5953 - val_loss: 52867072.0000 - val_mae: 1703.8254\n",
      "Epoch 17/50\n",
      "\u001b[1m1918/1918\u001b[0m \u001b[32m━━━━━━━━━━━━━━━━━━━━\u001b[0m\u001b[37m\u001b[0m \u001b[1m2s\u001b[0m 1ms/step - loss: 51375452.0000 - mae: 1679.5217 - val_loss: 50844828.0000 - val_mae: 1764.9626\n",
      "Epoch 18/50\n",
      "\u001b[1m1918/1918\u001b[0m \u001b[32m━━━━━━━━━━━━━━━━━━━━\u001b[0m\u001b[37m\u001b[0m \u001b[1m3s\u001b[0m 1ms/step - loss: 50272776.0000 - mae: 1624.0009 - val_loss: 49662276.0000 - val_mae: 1567.0663\n",
      "Epoch 19/50\n",
      "\u001b[1m1918/1918\u001b[0m \u001b[32m━━━━━━━━━━━━━━━━━━━━\u001b[0m\u001b[37m\u001b[0m \u001b[1m2s\u001b[0m 1ms/step - loss: 50019680.0000 - mae: 1565.9867 - val_loss: 49157160.0000 - val_mae: 1534.3479\n",
      "Epoch 20/50\n",
      "\u001b[1m1918/1918\u001b[0m \u001b[32m━━━━━━━━━━━━━━━━━━━━\u001b[0m\u001b[37m\u001b[0m \u001b[1m2s\u001b[0m 1ms/step - loss: 48569384.0000 - mae: 1496.8975 - val_loss: 49036744.0000 - val_mae: 1515.6730\n",
      "Epoch 21/50\n",
      "\u001b[1m1918/1918\u001b[0m \u001b[32m━━━━━━━━━━━━━━━━━━━━\u001b[0m\u001b[37m\u001b[0m \u001b[1m2s\u001b[0m 1ms/step - loss: 48842320.0000 - mae: 1480.8152 - val_loss: 49419296.0000 - val_mae: 1593.8365\n",
      "Epoch 22/50\n",
      "\u001b[1m1918/1918\u001b[0m \u001b[32m━━━━━━━━━━━━━━━━━━━━\u001b[0m\u001b[37m\u001b[0m \u001b[1m2s\u001b[0m 1ms/step - loss: 50414992.0000 - mae: 1536.6228 - val_loss: 49225552.0000 - val_mae: 1479.2340\n",
      "Epoch 23/50\n",
      "\u001b[1m1918/1918\u001b[0m \u001b[32m━━━━━━━━━━━━━━━━━━━━\u001b[0m\u001b[37m\u001b[0m \u001b[1m2s\u001b[0m 1ms/step - loss: 50088472.0000 - mae: 1508.5238 - val_loss: 48898876.0000 - val_mae: 1469.2708\n",
      "Epoch 24/50\n",
      "\u001b[1m1918/1918\u001b[0m \u001b[32m━━━━━━━━━━━━━━━━━━━━\u001b[0m\u001b[37m\u001b[0m \u001b[1m2s\u001b[0m 1ms/step - loss: 49697324.0000 - mae: 1488.7267 - val_loss: 48989072.0000 - val_mae: 1474.2769\n",
      "Epoch 25/50\n",
      "\u001b[1m1918/1918\u001b[0m \u001b[32m━━━━━━━━━━━━━━━━━━━━\u001b[0m\u001b[37m\u001b[0m \u001b[1m3s\u001b[0m 1ms/step - loss: 48427168.0000 - mae: 1467.7914 - val_loss: 48760284.0000 - val_mae: 1493.2981\n",
      "Epoch 26/50\n",
      "\u001b[1m1918/1918\u001b[0m \u001b[32m━━━━━━━━━━━━━━━━━━━━\u001b[0m\u001b[37m\u001b[0m \u001b[1m2s\u001b[0m 1ms/step - loss: 49321192.0000 - mae: 1480.1862 - val_loss: 49052772.0000 - val_mae: 1457.9210\n",
      "Epoch 27/50\n",
      "\u001b[1m1918/1918\u001b[0m \u001b[32m━━━━━━━━━━━━━━━━━━━━\u001b[0m\u001b[37m\u001b[0m \u001b[1m2s\u001b[0m 1ms/step - loss: 49165448.0000 - mae: 1484.2599 - val_loss: 49006552.0000 - val_mae: 1440.6953\n",
      "Epoch 28/50\n",
      "\u001b[1m1918/1918\u001b[0m \u001b[32m━━━━━━━━━━━━━━━━━━━━\u001b[0m\u001b[37m\u001b[0m \u001b[1m2s\u001b[0m 1ms/step - loss: 51151872.0000 - mae: 1519.0586 - val_loss: 48739996.0000 - val_mae: 1468.4242\n",
      "Epoch 29/50\n",
      "\u001b[1m1918/1918\u001b[0m \u001b[32m━━━━━━━━━━━━━━━━━━━━\u001b[0m\u001b[37m\u001b[0m \u001b[1m2s\u001b[0m 1ms/step - loss: 48864288.0000 - mae: 1455.4863 - val_loss: 50972128.0000 - val_mae: 1427.1228\n",
      "Epoch 30/50\n",
      "\u001b[1m1918/1918\u001b[0m \u001b[32m━━━━━━━━━━━━━━━━━━━━\u001b[0m\u001b[37m\u001b[0m \u001b[1m2s\u001b[0m 1ms/step - loss: 48439372.0000 - mae: 1437.6237 - val_loss: 48990144.0000 - val_mae: 1527.3959\n",
      "Epoch 31/50\n",
      "\u001b[1m1918/1918\u001b[0m \u001b[32m━━━━━━━━━━━━━━━━━━━━\u001b[0m\u001b[37m\u001b[0m \u001b[1m2s\u001b[0m 1ms/step - loss: 48198076.0000 - mae: 1444.2357 - val_loss: 48594116.0000 - val_mae: 1469.5009\n",
      "Epoch 32/50\n",
      "\u001b[1m1918/1918\u001b[0m \u001b[32m━━━━━━━━━━━━━━━━━━━━\u001b[0m\u001b[37m\u001b[0m \u001b[1m3s\u001b[0m 1ms/step - loss: 48319704.0000 - mae: 1460.5396 - val_loss: 49640460.0000 - val_mae: 1424.6250\n",
      "Epoch 33/50\n",
      "\u001b[1m1918/1918\u001b[0m \u001b[32m━━━━━━━━━━━━━━━━━━━━\u001b[0m\u001b[37m\u001b[0m \u001b[1m2s\u001b[0m 1ms/step - loss: 49462508.0000 - mae: 1474.2072 - val_loss: 48985860.0000 - val_mae: 1428.8734\n",
      "Epoch 34/50\n",
      "\u001b[1m1918/1918\u001b[0m \u001b[32m━━━━━━━━━━━━━━━━━━━━\u001b[0m\u001b[37m\u001b[0m \u001b[1m2s\u001b[0m 1ms/step - loss: 49387288.0000 - mae: 1444.9363 - val_loss: 49301516.0000 - val_mae: 1428.5271\n",
      "Epoch 35/50\n",
      "\u001b[1m1918/1918\u001b[0m \u001b[32m━━━━━━━━━━━━━━━━━━━━\u001b[0m\u001b[37m\u001b[0m \u001b[1m2s\u001b[0m 1ms/step - loss: 48391976.0000 - mae: 1438.8149 - val_loss: 49540388.0000 - val_mae: 1418.3419\n",
      "Epoch 36/50\n",
      "\u001b[1m1918/1918\u001b[0m \u001b[32m━━━━━━━━━━━━━━━━━━━━\u001b[0m\u001b[37m\u001b[0m \u001b[1m2s\u001b[0m 1ms/step - loss: 52579344.0000 - mae: 1539.4116 - val_loss: 51601556.0000 - val_mae: 1431.1592\n",
      "Epoch 37/50\n",
      "\u001b[1m1918/1918\u001b[0m \u001b[32m━━━━━━━━━━━━━━━━━━━━\u001b[0m\u001b[37m\u001b[0m \u001b[1m2s\u001b[0m 1ms/step - loss: 49696744.0000 - mae: 1475.4037 - val_loss: 49438820.0000 - val_mae: 1421.1702\n",
      "Epoch 38/50\n",
      "\u001b[1m1918/1918\u001b[0m \u001b[32m━━━━━━━━━━━━━━━━━━━━\u001b[0m\u001b[37m\u001b[0m \u001b[1m2s\u001b[0m 1ms/step - loss: 48650376.0000 - mae: 1462.5156 - val_loss: 48683852.0000 - val_mae: 1544.8556\n",
      "Epoch 39/50\n",
      "\u001b[1m1918/1918\u001b[0m \u001b[32m━━━━━━━━━━━━━━━━━━━━\u001b[0m\u001b[37m\u001b[0m \u001b[1m3s\u001b[0m 1ms/step - loss: 49679420.0000 - mae: 1465.4354 - val_loss: 48601432.0000 - val_mae: 1446.8783\n",
      "Epoch 40/50\n",
      "\u001b[1m1918/1918\u001b[0m \u001b[32m━━━━━━━━━━━━━━━━━━━━\u001b[0m\u001b[37m\u001b[0m \u001b[1m2s\u001b[0m 1ms/step - loss: 49925880.0000 - mae: 1491.7739 - val_loss: 49138824.0000 - val_mae: 1417.5056\n",
      "Epoch 41/50\n",
      "\u001b[1m1918/1918\u001b[0m \u001b[32m━━━━━━━━━━━━━━━━━━━━\u001b[0m\u001b[37m\u001b[0m \u001b[1m2s\u001b[0m 1ms/step - loss: 50911640.0000 - mae: 1492.3208 - val_loss: 49693000.0000 - val_mae: 1594.1615\n",
      "Epoch 42/50\n",
      "\u001b[1m1918/1918\u001b[0m \u001b[32m━━━━━━━━━━━━━━━━━━━━\u001b[0m\u001b[37m\u001b[0m \u001b[1m2s\u001b[0m 1ms/step - loss: 51781120.0000 - mae: 1520.1781 - val_loss: 49593436.0000 - val_mae: 1575.8271\n",
      "Epoch 43/50\n",
      "\u001b[1m1918/1918\u001b[0m \u001b[32m━━━━━━━━━━━━━━━━━━━━\u001b[0m\u001b[37m\u001b[0m \u001b[1m2s\u001b[0m 1ms/step - loss: 50056400.0000 - mae: 1478.1696 - val_loss: 48538556.0000 - val_mae: 1473.1542\n",
      "Epoch 44/50\n",
      "\u001b[1m1918/1918\u001b[0m \u001b[32m━━━━━━━━━━━━━━━━━━━━\u001b[0m\u001b[37m\u001b[0m \u001b[1m2s\u001b[0m 1ms/step - loss: 47622888.0000 - mae: 1418.9182 - val_loss: 49852884.0000 - val_mae: 1428.2552\n",
      "Epoch 45/50\n",
      "\u001b[1m1918/1918\u001b[0m \u001b[32m━━━━━━━━━━━━━━━━━━━━\u001b[0m\u001b[37m\u001b[0m \u001b[1m2s\u001b[0m 1ms/step - loss: 47865860.0000 - mae: 1442.4871 - val_loss: 48761380.0000 - val_mae: 1523.3312\n",
      "Epoch 46/50\n",
      "\u001b[1m1918/1918\u001b[0m \u001b[32m━━━━━━━━━━━━━━━━━━━━\u001b[0m\u001b[37m\u001b[0m \u001b[1m3s\u001b[0m 1ms/step - loss: 48447012.0000 - mae: 1437.5182 - val_loss: 49645148.0000 - val_mae: 1581.0447\n",
      "Epoch 47/50\n",
      "\u001b[1m1918/1918\u001b[0m \u001b[32m━━━━━━━━━━━━━━━━━━━━\u001b[0m\u001b[37m\u001b[0m \u001b[1m2s\u001b[0m 1ms/step - loss: 49381612.0000 - mae: 1465.3557 - val_loss: 48624584.0000 - val_mae: 1437.9717\n",
      "Epoch 48/50\n",
      "\u001b[1m1918/1918\u001b[0m \u001b[32m━━━━━━━━━━━━━━━━━━━━\u001b[0m\u001b[37m\u001b[0m \u001b[1m2s\u001b[0m 1ms/step - loss: 49373228.0000 - mae: 1473.4956 - val_loss: 50013604.0000 - val_mae: 1409.6212\n",
      "Epoch 49/50\n",
      "\u001b[1m1918/1918\u001b[0m \u001b[32m━━━━━━━━━━━━━━━━━━━━\u001b[0m\u001b[37m\u001b[0m \u001b[1m2s\u001b[0m 1ms/step - loss: 47411720.0000 - mae: 1412.0917 - val_loss: 48798920.0000 - val_mae: 1439.5547\n",
      "Epoch 50/50\n",
      "\u001b[1m1918/1918\u001b[0m \u001b[32m━━━━━━━━━━━━━━━━━━━━\u001b[0m\u001b[37m\u001b[0m \u001b[1m2s\u001b[0m 1ms/step - loss: 50932084.0000 - mae: 1502.6980 - val_loss: 48514692.0000 - val_mae: 1446.8572\n"
     ]
    }
   ],
   "source": [
    "# Train the model\n",
    "history = cnn_model.fit(X_train_scaled, y_train, epochs=50, batch_size=32, validation_data=(X_test_scaled, y_test))"
   ]
  },
  {
   "cell_type": "code",
   "execution_count": 58,
   "id": "0faeb519-acad-4ca9-b1fb-ef77a107a72d",
   "metadata": {
    "tags": []
   },
   "outputs": [
    {
     "name": "stdout",
     "output_type": "stream",
     "text": [
      "\u001b[1m480/480\u001b[0m \u001b[32m━━━━━━━━━━━━━━━━━━━━\u001b[0m\u001b[37m\u001b[0m \u001b[1m0s\u001b[0m 814us/step\n",
      "CNN Regression\n",
      "Mean Squared Error: 48514704.8707134\n",
      "R² Score: 0.6530594793970987\n"
     ]
    }
   ],
   "source": [
    "# Predict on the test set\n",
    "cnn_preds = cnn_model.predict(X_test_scaled)\n",
    "\n",
    "# Evaluate the model\n",
    "mse_cnn = mean_squared_error(y_test, cnn_preds)\n",
    "r2_cnn = r2_score(y_test, cnn_preds)\n",
    "\n",
    "# Print metrics\n",
    "print(\"CNN Regression\")\n",
    "print(\"Mean Squared Error:\", mse_cnn)\n",
    "print(\"R² Score:\", r2_cnn)"
   ]
  },
  {
   "cell_type": "code",
   "execution_count": 60,
   "id": "4d5bd9f1-0c8b-4618-b209-689e6be84c01",
   "metadata": {
    "tags": []
   },
   "outputs": [
    {
     "data": {
      "image/png": "[encoded data removed]",
      "text/plain": [
       "<Figure size 1000x500 with 1 Axes>"
      ]
     },
     "metadata": {},
     "output_type": "display_data"
    }
   ],
   "source": [
    "# --- Visualization 1: Training Loss and MAE Curves ---\n",
    "# Plot Training & Validation Loss\n",
    "plt.figure(figsize=(10, 5))\n",
    "plt.plot(history.history['loss'], label='Training Loss')\n",
    "plt.plot(history.history['val_loss'], label='Validation Loss')\n",
    "plt.title(\"Training & Validation Loss\")\n",
    "plt.xlabel(\"Epochs\")\n",
    "plt.ylabel(\"Loss (MSE)\")\n",
    "plt.legend()\n",
    "plt.show()"
   ]
  },
  {
   "cell_type": "code",
   "execution_count": 61,
   "id": "4ce83cd3-f47a-403e-8794-9a63e489b37a",
   "metadata": {
    "tags": []
   },
   "outputs": [
    {
     "data": {
      "image/png": "[encoded data removed]",
      "text/plain": [
       "<Figure size 1000x500 with 1 Axes>"
      ]
     },
     "metadata": {},
     "output_type": "display_data"
    }
   ],
   "source": [
    "# Plot Training & Validation MAE\n",
    "plt.figure(figsize=(10, 5))\n",
    "plt.plot(history.history['mae'], label='Training MAE')\n",
    "plt.plot(history.history['val_mae'], label='Validation MAE')\n",
    "plt.title(\"Training & Validation MAE\")\n",
    "plt.xlabel(\"Epochs\")\n",
    "plt.ylabel(\"MAE\")\n",
    "plt.legend()\n",
    "plt.show()\n"
   ]
  },
  {
   "cell_type": "markdown",
   "id": "8ef39e70-e893-4394-8e37-7f0a8ff42fd6",
   "metadata": {},
   "source": [
    "# LSTM Model"
   ]
  },
  {
   "cell_type": "code",
   "execution_count": 65,
   "id": "4d862997-4aeb-47b8-be5b-b0ea852c4a06",
   "metadata": {
    "tags": []
   },
   "outputs": [],
   "source": [
    "from tensorflow.keras.layers import LSTM, Dense"
   ]
  },
  {
   "cell_type": "code",
   "execution_count": 66,
   "id": "462e6294-76de-4611-9b21-302cc37ff5ab",
   "metadata": {
    "tags": []
   },
   "outputs": [
    {
     "name": "stderr",
     "output_type": "stream",
     "text": [
      "C:\\Users\\jayaragularumugam\\anaconda3\\Lib\\site-packages\\keras\\src\\layers\\rnn\\rnn.py:204: UserWarning: Do not pass an `input_shape`/`input_dim` argument to a layer. When using Sequential models, prefer using an `Input(shape)` object as the first layer in the model instead.\n",
      "  super().__init__(**kwargs)\n"
     ]
    }
   ],
   "source": [
    "# Create the LSTM model\n",
    "lstm_model = Sequential()\n",
    "lstm_model.add(LSTM(units=50, return_sequences=True, input_shape=(X_train_scaled.shape[1], 1)))\n",
    "lstm_model.add(LSTM(units=50))\n",
    "lstm_model.add(Dense(units=1))\n"
   ]
  },
  {
   "cell_type": "code",
   "execution_count": 67,
   "id": "fc5f850e-3042-465f-b87a-dfa29efa5b07",
   "metadata": {
    "tags": []
   },
   "outputs": [],
   "source": [
    "# Compile the model\n",
    "lstm_model.compile(optimizer='adam', loss='mean_squared_error')\n"
   ]
  },
  {
   "cell_type": "code",
   "execution_count": 68,
   "id": "bb4c5a1e-a507-4f3d-bac8-ea9977af208d",
   "metadata": {
    "tags": []
   },
   "outputs": [
    {
     "name": "stdout",
     "output_type": "stream",
     "text": [
      "Epoch 1/20\n",
      "\u001b[1m1535/1535\u001b[0m \u001b[32m━━━━━━━━━━━━━━━━━━━━\u001b[0m\u001b[37m\u001b[0m \u001b[1m7s\u001b[0m 3ms/step - loss: 144318208.0000 - val_loss: 144058272.0000\n",
      "Epoch 2/20\n",
      "\u001b[1m1535/1535\u001b[0m \u001b[32m━━━━━━━━━━━━━━━━━━━━\u001b[0m\u001b[37m\u001b[0m \u001b[1m6s\u001b[0m 4ms/step - loss: 145247792.0000 - val_loss: 143794960.0000\n",
      "Epoch 3/20\n",
      "\u001b[1m1535/1535\u001b[0m \u001b[32m━━━━━━━━━━━━━━━━━━━━\u001b[0m\u001b[37m\u001b[0m \u001b[1m6s\u001b[0m 4ms/step - loss: 137745584.0000 - val_loss: 143535408.0000\n",
      "Epoch 4/20\n",
      "\u001b[1m1535/1535\u001b[0m \u001b[32m━━━━━━━━━━━━━━━━━━━━\u001b[0m\u001b[37m\u001b[0m \u001b[1m5s\u001b[0m 3ms/step - loss: 141525536.0000 - val_loss: 143287712.0000\n",
      "Epoch 5/20\n",
      "\u001b[1m1535/1535\u001b[0m \u001b[32m━━━━━━━━━━━━━━━━━━━━\u001b[0m\u001b[37m\u001b[0m \u001b[1m5s\u001b[0m 3ms/step - loss: 136605456.0000 - val_loss: 143052448.0000\n",
      "Epoch 6/20\n",
      "\u001b[1m1535/1535\u001b[0m \u001b[32m━━━━━━━━━━━━━━━━━━━━\u001b[0m\u001b[37m\u001b[0m \u001b[1m6s\u001b[0m 4ms/step - loss: 135792320.0000 - val_loss: 142824848.0000\n",
      "Epoch 7/20\n",
      "\u001b[1m1535/1535\u001b[0m \u001b[32m━━━━━━━━━━━━━━━━━━━━\u001b[0m\u001b[37m\u001b[0m \u001b[1m6s\u001b[0m 4ms/step - loss: 125195840.0000 - val_loss: 142604048.0000\n",
      "Epoch 8/20\n",
      "\u001b[1m1535/1535\u001b[0m \u001b[32m━━━━━━━━━━━━━━━━━━━━\u001b[0m\u001b[37m\u001b[0m \u001b[1m5s\u001b[0m 4ms/step - loss: 134696928.0000 - val_loss: 142396112.0000\n",
      "Epoch 9/20\n",
      "\u001b[1m1535/1535\u001b[0m \u001b[32m━━━━━━━━━━━━━━━━━━━━\u001b[0m\u001b[37m\u001b[0m \u001b[1m5s\u001b[0m 3ms/step - loss: 128869496.0000 - val_loss: 142192336.0000\n",
      "Epoch 10/20\n",
      "\u001b[1m1535/1535\u001b[0m \u001b[32m━━━━━━━━━━━━━━━━━━━━\u001b[0m\u001b[37m\u001b[0m \u001b[1m5s\u001b[0m 3ms/step - loss: 143639088.0000 - val_loss: 142001728.0000\n",
      "Epoch 11/20\n",
      "\u001b[1m1535/1535\u001b[0m \u001b[32m━━━━━━━━━━━━━━━━━━━━\u001b[0m\u001b[37m\u001b[0m \u001b[1m6s\u001b[0m 4ms/step - loss: 135138352.0000 - val_loss: 141816352.0000\n",
      "Epoch 12/20\n",
      "\u001b[1m1535/1535\u001b[0m \u001b[32m━━━━━━━━━━━━━━━━━━━━\u001b[0m\u001b[37m\u001b[0m \u001b[1m5s\u001b[0m 3ms/step - loss: 134658672.0000 - val_loss: 141638976.0000\n",
      "Epoch 13/20\n",
      "\u001b[1m1535/1535\u001b[0m \u001b[32m━━━━━━━━━━━━━━━━━━━━\u001b[0m\u001b[37m\u001b[0m \u001b[1m5s\u001b[0m 3ms/step - loss: 136090704.0000 - val_loss: 141469360.0000\n",
      "Epoch 14/20\n",
      "\u001b[1m1535/1535\u001b[0m \u001b[32m━━━━━━━━━━━━━━━━━━━━\u001b[0m\u001b[37m\u001b[0m \u001b[1m6s\u001b[0m 4ms/step - loss: 141788448.0000 - val_loss: 141308208.0000\n",
      "Epoch 15/20\n",
      "\u001b[1m1535/1535\u001b[0m \u001b[32m━━━━━━━━━━━━━━━━━━━━\u001b[0m\u001b[37m\u001b[0m \u001b[1m5s\u001b[0m 3ms/step - loss: 136018816.0000 - val_loss: 141154608.0000\n",
      "Epoch 16/20\n",
      "\u001b[1m1535/1535\u001b[0m \u001b[32m━━━━━━━━━━━━━━━━━━━━\u001b[0m\u001b[37m\u001b[0m \u001b[1m5s\u001b[0m 3ms/step - loss: 133987800.0000 - val_loss: 141006352.0000\n",
      "Epoch 17/20\n",
      "\u001b[1m1535/1535\u001b[0m \u001b[32m━━━━━━━━━━━━━━━━━━━━\u001b[0m\u001b[37m\u001b[0m \u001b[1m6s\u001b[0m 4ms/step - loss: 136081056.0000 - val_loss: 140863856.0000\n",
      "Epoch 18/20\n",
      "\u001b[1m1535/1535\u001b[0m \u001b[32m━━━━━━━━━━━━━━━━━━━━\u001b[0m\u001b[37m\u001b[0m \u001b[1m5s\u001b[0m 3ms/step - loss: 129933768.0000 - val_loss: 140727408.0000\n",
      "Epoch 19/20\n",
      "\u001b[1m1535/1535\u001b[0m \u001b[32m━━━━━━━━━━━━━━━━━━━━\u001b[0m\u001b[37m\u001b[0m \u001b[1m5s\u001b[0m 3ms/step - loss: 134826352.0000 - val_loss: 140599888.0000\n",
      "Epoch 20/20\n",
      "\u001b[1m1535/1535\u001b[0m \u001b[32m━━━━━━━━━━━━━━━━━━━━\u001b[0m\u001b[37m\u001b[0m \u001b[1m6s\u001b[0m 4ms/step - loss: 133738944.0000 - val_loss: 140479488.0000\n"
     ]
    }
   ],
   "source": [
    "# Train the model\n",
    "history = lstm_model.fit(X_train_scaled, y_train, epochs=20, batch_size=32, validation_split=0.2)"
   ]
  },
  {
   "cell_type": "code",
   "execution_count": 69,
   "id": "0232ac0f-3e65-4789-a789-0577ec27d811",
   "metadata": {
    "tags": []
   },
   "outputs": [
    {
     "name": "stdout",
     "output_type": "stream",
     "text": [
      "\u001b[1m480/480\u001b[0m \u001b[32m━━━━━━━━━━━━━━━━━━━━\u001b[0m\u001b[37m\u001b[0m \u001b[1m1s\u001b[0m 2ms/step\n",
      "R² Score: -0.0145\n",
      "Mean Squared Error: 141860079.6059\n"
     ]
    }
   ],
   "source": [
    "# Evaluate the model\n",
    "y_pred = lstm_model.predict(X_test_scaled)\n",
    "r2 = r2_score(y_test, y_pred)\n",
    "print(f\"R² Score: {r2:.4f}\")\n",
    "\n",
    "# Calculate Mean Squared Error\n",
    "mse = mean_squared_error(y_test, y_pred)\n",
    "print(f\"Mean Squared Error: {mse:.4f}\")"
   ]
  },
  {
   "cell_type": "code",
   "execution_count": 71,
   "id": "3f183bdc-f624-4872-bd84-1d387c6f9739",
   "metadata": {
    "tags": []
   },
   "outputs": [
    {
     "data": {
      "image/png": "[encoded data removed]",
      "text/plain": [
       "<Figure size 1000x500 with 1 Axes>"
      ]
     },
     "metadata": {},
     "output_type": "display_data"
    }
   ],
   "source": [
    "# --- Visualization 1: Training Loss Curves ---\n",
    "plt.figure(figsize=(10, 5))\n",
    "plt.plot(history.history['loss'], label='Training Loss')\n",
    "plt.plot(history.history['val_loss'], label='Validation Loss')\n",
    "plt.title(\"LSTM Training & Validation Loss\")\n",
    "plt.xlabel(\"Epochs\")\n",
    "plt.ylabel(\"Loss (MSE)\")\n",
    "plt.legend()\n",
    "plt.show()"
   ]
  },
  {
   "cell_type": "markdown",
   "id": "ebc84f5d-ba8e-41f4-a383-8606e744d8bc",
   "metadata": {},
   "source": [
    "# Resource Allocation"
   ]
  },
  {
   "cell_type": "code",
   "execution_count": 84,
   "id": "160bd382-2d36-4ae5-bf81-5ef4267888e9",
   "metadata": {
    "tags": []
   },
   "outputs": [
    {
     "name": "stdout",
     "output_type": "stream",
     "text": [
      "    Throughput Prediction       Resource Allocation\n",
      "0              107.160914   Low Resource Allocation\n",
      "1            79978.021978  High Resource Allocation\n",
      "2              107.150856   Low Resource Allocation\n",
      "3              107.150856   Low Resource Allocation\n",
      "4              107.160914   Low Resource Allocation\n",
      "5              107.160914   Low Resource Allocation\n",
      "6               65.864953   Low Resource Allocation\n",
      "7              107.160914   Low Resource Allocation\n",
      "8              107.160914   Low Resource Allocation\n",
      "9               65.864776   Low Resource Allocation\n",
      "10             107.150856   Low Resource Allocation\n",
      "11              65.864776   Low Resource Allocation\n",
      "12             158.637738   Low Resource Allocation\n",
      "13              65.864776   Low Resource Allocation\n",
      "14             107.150856   Low Resource Allocation\n",
      "15              75.178998   Low Resource Allocation\n",
      "16           83333.333333  High Resource Allocation\n",
      "17             107.160914   Low Resource Allocation\n",
      "18             107.150856   Low Resource Allocation\n",
      "19             107.160914   Low Resource Allocation\n",
      "Resource allocation results saved to 'resource_allocation_results.csv'\n"
     ]
    },
    {
     "name": "stderr",
     "output_type": "stream",
     "text": [
      "C:\\Users\\jayaragularumugam\\anaconda3\\Lib\\site-packages\\sklearn\\base.py:464: UserWarning: X does not have valid feature names, but RandomForestRegressor was fitted with feature names\n",
      "  warnings.warn(\n"
     ]
    }
   ],
   "source": [
    "# Define thresholds for resource allocation based on throughput predictions\n",
    "def allocate_resources(throughput):\n",
    "    if throughput < 1000:\n",
    "        return \"Low Resource Allocation\"\n",
    "    elif 1000 <= throughput < 5000:\n",
    "        return \"Medium Resource Allocation\"\n",
    "    else:\n",
    "        return \"High Resource Allocation\"\n",
    "\n",
    "# Generate predictions using your trained model (use Random Forest in this example)\n",
    "rf_preds = rf_model.predict(X_test_scaled)\n",
    "\n",
    "# Create a DataFrame to store predictions and allocated resources\n",
    "results_df = pd.DataFrame({\n",
    "    \"Throughput Prediction\": rf_preds,\n",
    "    \"Resource Allocation\": [allocate_resources(tp) for tp in rf_preds]\n",
    "})\n",
    "\n",
    "# View allocation results\n",
    "print(results_df.head(20))\n",
    "\n",
    "# Save the resource allocation results to a CSV file\n",
    "results_df.to_csv(\"resource_allocation_results.csv\", index=False)\n",
    "print(\"Resource allocation results saved to 'resource_allocation_results.csv'\")\n"
   ]
  },
  {
   "cell_type": "code",
   "execution_count": null,
   "id": "9333cc11-8c42-49fd-9cfb-512b50d3b951",
   "metadata": {},
   "outputs": [],
   "source": []
  }
 ],
 "metadata": {
  "kernelspec": {
   "display_name": "Python 3 (ipykernel)",
   "language": "python",
   "name": "python3"
  },
  "language_info": {
   "codemirror_mode": {
    "name": "ipython",
    "version": 3
   },
   "file_extension": ".py",
   "mimetype": "text/x-python",
   "name": "python",
   "nbconvert_exporter": "python",
   "pygments_lexer": "ipython3",
   "version": "3.11.5"
  }
 },
 "nbformat": 4,
 "nbformat_minor": 5
}
